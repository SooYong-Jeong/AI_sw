{
 "cells": [
  {
   "cell_type": "code",
   "execution_count": 7,
   "metadata": {},
   "outputs": [
    {
     "name": "stdout",
     "output_type": "stream",
     "text": [
      "2\n",
      "4\n",
      "6\n",
      "8\n",
      "10\n"
     ]
    }
   ],
   "source": [
    "a = 0\n",
    "while a < 10:\n",
    "    a = a + 2\n",
    "    print(a)"
   ]
  },
  {
   "cell_type": "code",
   "execution_count": 10,
   "metadata": {},
   "outputs": [
    {
     "name": "stdout",
     "output_type": "stream",
     "text": [
      "80\n",
      "90\n"
     ]
    }
   ],
   "source": [
    "a = [[\"국어\", \"영어\", \"수학\"],\n",
    "    [70, 60, 50],\n",
    "    [70, 90, 80],\n",
    "    [60, 70, 90]]\n",
    "for [a, b, c] in a[1:]:\n",
    "    if c > 70:\n",
    "        print(c)"
   ]
  },
  {
   "cell_type": "code",
   "execution_count": 18,
   "metadata": {},
   "outputs": [
    {
     "name": "stdout",
     "output_type": "stream",
     "text": [
      "2 4 6 8 10 12 14 16 18 \n",
      "4 8 12 16 20 24 28 32 36 \n",
      "6 12 18 24 30 36 42 48 54 \n",
      "8 16 24 32 40 48 56 64 72 \n"
     ]
    }
   ],
   "source": [
    "for i in range(2,9,2):\n",
    "    for j in range(1,10):\n",
    "        print(i * j, end = ' ')\n",
    "    print()"
   ]
  },
  {
   "cell_type": "code",
   "execution_count": 40,
   "metadata": {},
   "outputs": [
    {
     "name": "stdout",
     "output_type": "stream",
     "text": [
      "49\n",
      "3\n",
      "1\n"
     ]
    }
   ],
   "source": [
    "class Cal:\n",
    "    def Set(self, a, b):\n",
    "        self.a = a\n",
    "        self.b = b\n",
    "    def Pow(self):\n",
    "        result = pow(self.a,self.b)\n",
    "        return result\n",
    "    def Rem(self):\n",
    "        result = (self.a % self.b)\n",
    "        return result\n",
    "    def Quo(self):\n",
    "        return (int)(self.a / self.b)\n",
    "A = Cal()        \n",
    "A.Set(7, 2)\n",
    "print(A.Pow())\n",
    "print(A.Quo())\n",
    "print(A.Rem())\n"
   ]
  },
  {
   "cell_type": "code",
   "execution_count": null,
   "metadata": {},
   "outputs": [],
   "source": []
  }
 ],
 "metadata": {
  "kernelspec": {
   "display_name": "Python 3",
   "language": "python",
   "name": "python3"
  },
  "language_info": {
   "codemirror_mode": {
    "name": "ipython",
    "version": 3
   },
   "file_extension": ".py",
   "mimetype": "text/x-python",
   "name": "python",
   "nbconvert_exporter": "python",
   "pygments_lexer": "ipython3",
   "version": "3.8.5"
  }
 },
 "nbformat": 4,
 "nbformat_minor": 4
}
