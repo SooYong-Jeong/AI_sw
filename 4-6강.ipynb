{
 "cells": [
  {
   "cell_type": "code",
   "execution_count": 2,
   "metadata": {},
   "outputs": [
    {
     "name": "stdout",
     "output_type": "stream",
     "text": [
      "['황중원', '박지숙', '임진섭', '하민우', '천은영']\n"
     ]
    }
   ],
   "source": [
    "exam_rank = [\"황중원\", \"박지숙\", \"임진섭\", \"천은영\"]\n",
    "exam_rank.insert(3, \"하민우\")\n",
    "print(exam_rank)"
   ]
  },
  {
   "cell_type": "code",
   "execution_count": 11,
   "metadata": {},
   "outputs": [
    {
     "name": "stdout",
     "output_type": "stream",
     "text": [
      "['b', 'c']\n"
     ]
    }
   ],
   "source": [
    "a = [1,2,[3,4,['a','b','c']]]\n",
    "print(a[2][2][1:])"
   ]
  },
  {
   "cell_type": "code",
   "execution_count": 24,
   "metadata": {},
   "outputs": [
    {
     "name": "stdout",
     "output_type": "stream",
     "text": [
      "[(1, '황중원'), (2, '박지숙'), (3, '임진섭'), (4, '하민우'), (5, '천은영')]\n"
     ]
    }
   ],
   "source": [
    "exam_dic = {1 : \"황중원\", 2 : \"박지숙\", 3 : \"임진섭\", 5 : \"천은영\"}\n",
    "exam_dic[4] = \"하민우\"\n",
    "exam_dic = sorted(exam_dic.items())\n",
    "print(exam_dic)"
   ]
  },
  {
   "cell_type": "code",
   "execution_count": 29,
   "metadata": {},
   "outputs": [
    {
     "name": "stdout",
     "output_type": "stream",
     "text": [
      "홀수\n"
     ]
    }
   ],
   "source": [
    "n = 10\n",
    "if n%2 == 0:\n",
    "    print(\"짝수\")\n",
    "else: print(\"홀수\")"
   ]
  },
  {
   "cell_type": "code",
   "execution_count": 33,
   "metadata": {},
   "outputs": [
    {
     "name": "stdout",
     "output_type": "stream",
     "text": [
      "오렌지\n",
      "오답입니다\n"
     ]
    }
   ],
   "source": [
    "a = [\"사과\", \"포도\", \"딸기\"]\n",
    "if input() in a:\n",
    "    print(\"정답입니다\")\n",
    "else: print(\"오답입니다\")"
   ]
  },
  {
   "cell_type": "code",
   "execution_count": null,
   "metadata": {},
   "outputs": [],
   "source": []
  }
 ],
 "metadata": {
  "kernelspec": {
   "display_name": "Python 3",
   "language": "python",
   "name": "python3"
  },
  "language_info": {
   "codemirror_mode": {
    "name": "ipython",
    "version": 3
   },
   "file_extension": ".py",
   "mimetype": "text/x-python",
   "name": "python",
   "nbconvert_exporter": "python",
   "pygments_lexer": "ipython3",
   "version": "3.8.5"
  }
 },
 "nbformat": 4,
 "nbformat_minor": 4
}
