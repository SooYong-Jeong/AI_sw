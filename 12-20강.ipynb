{
 "cells": [
  {
   "cell_type": "code",
   "execution_count": 4,
   "id": "91e48f56",
   "metadata": {},
   "outputs": [
    {
     "data": {
      "text/plain": [
       "'\\n머신러닝 학습 방식의 지도학습, 비지도 학습, 강화학습에 대해 서술하기\\n(비교, 장단점, 알고리즘 등)\\n\\n지도학습은 입력과 타깃으로 모델을 훈련하는것 \\n즉 내가 예측하고자하는 데이터와 그 데이터에대한 정답을 미리 알려주고 하는 학습이다\\n머신러닝이 이에 해당한다 데이터양이 많고 시간이 오래 걸리는게 단점이다\\n학습 알고리즘에는 이미지 인식 및 분류 신경망 CNN, 시계열 데이터 처리 신경망 RNN,\\n데이터 마진 탐색 SVM, 변수간 상관관계 회귀분석이 있다\\n\\n비지도학습은 지도학습과는 달리 정답이 없는 데이터를 사용하여 모델을 훈련한다 \\n정답이 없는 데이터만으로 특정 패턴과 규칙을 찾는 것 학습 결과로 분류 기준과\\n군집예측이 불가하다는 단점이있다 학습 알고리즘에는 최소거리기반 k-Means, \\n데이터 밀도기반 DBSCAN, 특징 영역 분할 민 시프트, 사물의 특징 추출 주성분 분석이 있다\\n\\n강화학습은 학습을 하는 에이전트라는 시스템이 주변환경을 관찰해서 행동을 실행하면\\n그 행동에대한 보상과 벌점을 받는다 가장 큰 보상을 얻기 위해 정책이라고 부르는\\n최상의 전략을 학습한다\\n'"
      ]
     },
     "execution_count": 4,
     "metadata": {},
     "output_type": "execute_result"
    }
   ],
   "source": [
    "\"\"\"\n",
    "머신러닝 학습 방식의 지도학습, 비지도 학습, 강화학습에 대해 서술하기\n",
    "(비교, 장단점, 알고리즘 등)\n",
    "\n",
    "지도학습은 입력과 타깃으로 모델을 훈련하는것 \n",
    "즉 내가 예측하고자하는 데이터와 그 데이터에대한 정답을 미리 알려주고 하는 학습이다\n",
    "머신러닝이 이에 해당한다 데이터양이 많고 시간이 오래 걸리는게 단점이다\n",
    "학습 알고리즘에는 이미지 인식 및 분류 신경망 CNN, 시계열 데이터 처리 신경망 RNN,\n",
    "데이터 마진 탐색 SVM, 변수간 상관관계 회귀분석이 있다\n",
    "\n",
    "비지도학습은 지도학습과는 달리 정답이 없는 데이터를 사용하여 모델을 훈련한다 \n",
    "정답이 없는 데이터만으로 특정 패턴과 규칙을 찾는 것 학습 결과로 분류 기준과\n",
    "군집예측이 불가하다는 단점이있다 학습 알고리즘에는 최소거리기반 k-Means, \n",
    "데이터 밀도기반 DBSCAN, 특징 영역 분할 민 시프트, 사물의 특징 추출 주성분 분석이 있다\n",
    "\n",
    "강화학습은 학습을 하는 에이전트라는 시스템이 주변환경을 관찰해서 행동을 실행하면\n",
    "그 행동에대한 보상과 벌점을 받는다 가장 큰 보상을 얻기 위해 정책이라고 부르는\n",
    "최상의 전략을 학습한다\n",
    "\"\"\""
   ]
  },
  {
   "cell_type": "code",
   "execution_count": 5,
   "id": "dc80f24d",
   "metadata": {},
   "outputs": [
    {
     "data": {
      "text/plain": [
       "'\\n현재 인공지능이 적용된 분야와 적용된 인공지능의 기술 및 역할에 대해 서술하기\\n\\n데이터 분류 이미지 학습 및 인식으로 의학, 영상처리, 미술, 자율주행 등 다양한\\n분야에서 활용되고 있다 인공지능은 대량의 데이터를 분석하고 판단하기 때문에\\n인간의 많은 시간을 절약해 준다.\\n'"
      ]
     },
     "execution_count": 5,
     "metadata": {},
     "output_type": "execute_result"
    }
   ],
   "source": [
    "\"\"\"\n",
    "현재 인공지능이 적용된 분야와 적용된 인공지능의 기술 및 역할에 대해 서술하기\n",
    "\n",
    "데이터 분류 이미지 학습 및 인식으로 의학, 영상처리, 미술, 자율주행 등 다양한\n",
    "분야에서 활용되고 있다 인공지능은 대량의 데이터를 분석하고 판단하기 때문에\n",
    "인간의 많은 시간을 절약해 준다.\n",
    "\"\"\""
   ]
  },
  {
   "cell_type": "code",
   "execution_count": 6,
   "id": "63c76d1d",
   "metadata": {},
   "outputs": [
    {
     "data": {
      "text/plain": [
       "'\\n퍼셉트론과 신경망 그리고 머신러닝과 딥러닝의 공통점과 차이점에 대해 간략히 서술하기\\n\\n퍼셉트론과 신경망은 다수의 신호를 입력으로 결과를 출력한다는 공통점이 있지만\\n매개변수의 값을 퍼셉트론은 직접 설정하고 신경망은 자동으로 학습한다\\n\\n머신러닝과 딥러닝은 사람이 개입하는 정도에따라 다르다 머시널닝은 학습을 인위저긍로\\n시키고 딥러닝은 데이터만 주면 특징과 패턴을 스스로 학습하고 판단한다\\n'"
      ]
     },
     "execution_count": 6,
     "metadata": {},
     "output_type": "execute_result"
    }
   ],
   "source": [
    "\"\"\"\n",
    "퍼셉트론과 신경망 그리고 머신러닝과 딥러닝의 공통점과 차이점에 대해 간략히 서술하기\n",
    "\n",
    "퍼셉트론과 신경망은 다수의 신호를 입력으로 결과를 출력한다는 공통점이 있지만\n",
    "매개변수의 값을 퍼셉트론은 직접 설정하고 신경망은 자동으로 학습한다\n",
    "\n",
    "머신러닝과 딥러닝은 사람이 개입하는 정도에따라 다르다 머시널닝은 학습을 인위저긍로\n",
    "시키고 딥러닝은 데이터만 주면 특징과 패턴을 스스로 학습하고 판단한다\n",
    "\"\"\""
   ]
  },
  {
   "cell_type": "code",
   "execution_count": 14,
   "id": "dc6fc622",
   "metadata": {},
   "outputs": [
    {
     "name": "stdout",
     "output_type": "stream",
     "text": [
      "X1\tX2\t Y\n",
      "-------------------\n",
      "0\t0\t 0\n",
      "1\t0\t 0\n",
      "0\t1\t 0\n",
      "1\t1\t 1\n"
     ]
    }
   ],
   "source": [
    "\"\"\"\n",
    "논리회로(and, nand, or, xor) 게이트 중 한 가지 게이트를 선택하고 강의에서 사용하지 \n",
    "않은 매개변수(가중치, 편향)를 활용하여 파이썬 프로그래밍으로 구현하고 코드 및 결과\n",
    "(코드를 통해 출력된 진리표)를 캡처 후 제출하기\n",
    "\"\"\"\n",
    "def AND(x1, x2):\n",
    "    w1, w2, theta = 1, 1, 1.5\n",
    "    tmp = x1 * w1 + x2 * w2\n",
    "    if tmp <= theta:\n",
    "        return 0\n",
    "    elif tmp > theta:\n",
    "        return 1\n",
    "\n",
    "print(\"X1\\tX2\\t Y\")\n",
    "print(\"-------------------\")\n",
    "print(\"0\\t0\\t\", AND(0,0))\n",
    "print(\"1\\t0\\t\", AND(1,0))\n",
    "print(\"0\\t1\\t\", AND(0,1))\n",
    "print(\"1\\t1\\t\", AND(1,1))"
   ]
  },
  {
   "cell_type": "code",
   "execution_count": 16,
   "id": "f9264b57",
   "metadata": {},
   "outputs": [
    {
     "data": {
      "image/png": "[encoded data removed]",
      "text/plain": [
       "<Figure size 432x288 with 1 Axes>"
      ]
     },
     "metadata": {
      "needs_background": "light"
     },
     "output_type": "display_data"
    }
   ],
   "source": [
    "\"\"\"\n",
    "신경망에서 활성화 함수(Sigmoid, Relu, 계단, softmax 등) 중 1개 이상의 활성화 함수\n",
    "를 선택하여 파이썬 프로그래밍으로 구현하고 선택한 함수에 대해 설명하기\n",
    "\"\"\"\n",
    "#계단함수 - 임계값을 경계로 출력이 바뀌는 함수이다\n",
    "import numpy as np\n",
    "import matplotlib.pyplot as plt\n",
    "\n",
    "def step_function(x):\n",
    "    y = x > 0\n",
    "    return y.astype(np.int64)\n",
    "\n",
    "x = np.arange(-0.5, 5.0, 0.1)\n",
    "y = step_function(x)\n",
    "plt.plot(x, y)\n",
    "plt.ylim(-0.1, 1.1)\n",
    "plt.show()"
   ]
  },
  {
   "cell_type": "code",
   "execution_count": null,
   "id": "21649309",
   "metadata": {},
   "outputs": [],
   "source": [
    "\"\"\"\n",
    "오버피팅의 개요와 오버피팅이 일어나는 원인 그리고 해결 방법에 대해 서술하기\n",
    "\n",
    "오버피팅은 훈련 데이터에 너무 맞춰진 말그대로 오버 피팅이 된 상태이다\n",
    "오버피팅은 가중치를 높히거나 훈련 데이터를 추가하는 방식이 있다\n",
    "\n",
    "모델 학습 시 좋은 학습 결과를 얻기 위하여 사용되는 학습용 데이터 세트의 조건에 대해 \n",
    "서술하기\n",
    "\n",
    "학습 데이터는 충분한 양, 대표성을 띄어야 하고 잡음이 없고 특성이 충분해야한다\n",
    "\n",
    "딥러닝 또는 머신러닝 기술을 적용하여 미래에 개발하고 싶은 아이디어 또는 이러한 기술\n",
    "들이 적용되어 상용화된 시스템(제품, 아이디어 등)에 대해 설명하고 그 아이디어에 딥러\n",
    "닝, 머신러닝 기술이 필요한 이유(기존 방식과의 차별성, 역할 등)가 무엇인지 서술하기\n",
    "\n",
    "오프라인 영화관에서 영화가 언제 내려가는지 예측하기위해 사용하고 싶다 \n",
    "이 아이디어는 KOBIS(영화관입장권통합전산망)와 상영관의 데이터가 있다면 \n",
    "영화의 상영관 기준은 개봉일 실적, 사전예매율 추이, 좌석점유율, 전문가와 관객의 평가, \n",
    "시즌의 상황, 경쟁작 여부, 유사 작품의 흥행 실적 등 공지 된 것만으로도 변수가 많기 때문에\n",
    "딥러닝 기술이 꼭 필요하다 상영기간을 놓치면 다시는 영화관에서 보기 어렵기 때문에\n",
    "금방 없어져서 보고싶은 영화를 샹영관에서 못보는 일이 줄어들었으면 하는 생각이다\n",
    "하지만 이 예측 데이터로인해 다시 예측에 영향을 주는 일이 가장 문제다\n",
    "\n",
    "\"\"\"\n"
   ]
  }
 ],
 "metadata": {
  "kernelspec": {
   "display_name": "Python 3",
   "language": "python",
   "name": "python3"
  },
  "language_info": {
   "codemirror_mode": {
    "name": "ipython",
    "version": 3
   },
   "file_extension": ".py",
   "mimetype": "text/x-python",
   "name": "python",
   "nbconvert_exporter": "python",
   "pygments_lexer": "ipython3",
   "version": "3.8.8"
  }
 },
 "nbformat": 4,
 "nbformat_minor": 5
}
