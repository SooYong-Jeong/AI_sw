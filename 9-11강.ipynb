{
 "cells": [
  {
   "cell_type": "code",
   "execution_count": 35,
   "metadata": {},
   "outputs": [],
   "source": [
    "import pandas as pd"
   ]
  },
  {
   "cell_type": "code",
   "execution_count": 36,
   "metadata": {},
   "outputs": [
    {
     "data": {
      "text/plain": [
       "[[2, 4, 6, 8, 10, 12, 14, 16, 18],\n",
       " [3, 6, 9, 12, 15, 18, 21, 24, 27],\n",
       " [4, 8, 12, 16, 20, 24, 28, 32, 36],\n",
       " [5, 10, 15, 20, 25, 30, 35, 40, 45]]"
      ]
     },
     "execution_count": 36,
     "metadata": {},
     "output_type": "execute_result"
    }
   ],
   "source": [
    "data = [[0]*9 for i in range(4)]\n",
    "for i in range(0,10):\n",
    "    for j in range(2,6):\n",
    "        data[j-2][i-1] = i * j\n",
    "data"
   ]
  },
  {
   "cell_type": "code",
   "execution_count": 37,
   "metadata": {},
   "outputs": [
    {
     "data": {
      "text/html": [
       "<div>\n",
       "<style scoped>\n",
       "    .dataframe tbody tr th:only-of-type {\n",
       "        vertical-align: middle;\n",
       "    }\n",
       "\n",
       "    .dataframe tbody tr th {\n",
       "        vertical-align: top;\n",
       "    }\n",
       "\n",
       "    .dataframe thead th {\n",
       "        text-align: right;\n",
       "    }\n",
       "</style>\n",
       "<table border=\"1\" class=\"dataframe\">\n",
       "  <thead>\n",
       "    <tr style=\"text-align: right;\">\n",
       "      <th></th>\n",
       "      <th>1</th>\n",
       "      <th>2</th>\n",
       "      <th>3</th>\n",
       "      <th>4</th>\n",
       "      <th>5</th>\n",
       "      <th>6</th>\n",
       "      <th>7</th>\n",
       "      <th>8</th>\n",
       "      <th>9</th>\n",
       "    </tr>\n",
       "  </thead>\n",
       "  <tbody>\n",
       "    <tr>\n",
       "      <th>2단</th>\n",
       "      <td>2</td>\n",
       "      <td>4</td>\n",
       "      <td>6</td>\n",
       "      <td>8</td>\n",
       "      <td>10</td>\n",
       "      <td>12</td>\n",
       "      <td>14</td>\n",
       "      <td>16</td>\n",
       "      <td>18</td>\n",
       "    </tr>\n",
       "    <tr>\n",
       "      <th>3단</th>\n",
       "      <td>3</td>\n",
       "      <td>6</td>\n",
       "      <td>9</td>\n",
       "      <td>12</td>\n",
       "      <td>15</td>\n",
       "      <td>18</td>\n",
       "      <td>21</td>\n",
       "      <td>24</td>\n",
       "      <td>27</td>\n",
       "    </tr>\n",
       "    <tr>\n",
       "      <th>4단</th>\n",
       "      <td>4</td>\n",
       "      <td>8</td>\n",
       "      <td>12</td>\n",
       "      <td>16</td>\n",
       "      <td>20</td>\n",
       "      <td>24</td>\n",
       "      <td>28</td>\n",
       "      <td>32</td>\n",
       "      <td>36</td>\n",
       "    </tr>\n",
       "    <tr>\n",
       "      <th>5단</th>\n",
       "      <td>5</td>\n",
       "      <td>10</td>\n",
       "      <td>15</td>\n",
       "      <td>20</td>\n",
       "      <td>25</td>\n",
       "      <td>30</td>\n",
       "      <td>35</td>\n",
       "      <td>40</td>\n",
       "      <td>45</td>\n",
       "    </tr>\n",
       "  </tbody>\n",
       "</table>\n",
       "</div>"
      ],
      "text/plain": [
       "    1   2   3   4   5   6   7   8   9\n",
       "2단  2   4   6   8  10  12  14  16  18\n",
       "3단  3   6   9  12  15  18  21  24  27\n",
       "4단  4   8  12  16  20  24  28  32  36\n",
       "5단  5  10  15  20  25  30  35  40  45"
      ]
     },
     "execution_count": 37,
     "metadata": {},
     "output_type": "execute_result"
    }
   ],
   "source": [
    "df = pd.DataFrame(data = data, columns = [1, 2, 3, 4, 5, 6, 7, 8, 9], index = ['2단', '3단', '4단', '5단'])\n",
    "df.head()"
   ]
  },
  {
   "cell_type": "code",
   "execution_count": 52,
   "metadata": {},
   "outputs": [
    {
     "name": "stdout",
     "output_type": "stream",
     "text": [
      "\n",
      "합\n",
      "\n",
      "2단     90\n",
      "3단    135\n",
      "4단    180\n",
      "5단    225\n",
      "dtype: int64\n",
      "\n",
      "평균\n",
      "\n",
      "2단    10.0\n",
      "3단    15.0\n",
      "4단    20.0\n",
      "5단    25.0\n",
      "dtype: float64\n",
      "\n",
      "최솟값\n",
      "\n",
      "2단    2\n",
      "3단    3\n",
      "4단    4\n",
      "5단    5\n",
      "dtype: int64\n",
      "\n",
      "최댓값\n",
      "\n",
      "2단    18\n",
      "3단    27\n",
      "4단    36\n",
      "5단    45\n",
      "dtype: int64\n"
     ]
    }
   ],
   "source": [
    "Sum = df.sum(axis = 1)\n",
    "Mean = df.mean(axis = 1)\n",
    "Min = df.min(axis = 1)\n",
    "Max = df.max(axis = 1)\n",
    "print(\"\\n합\\n\")\n",
    "print(Sum)\n",
    "print(\"\\n평균\\n\")\n",
    "print(Mean)\n",
    "print(\"\\n최솟값\\n\")\n",
    "print(Min)\n",
    "print(\"\\n최댓값\\n\")\n",
    "print(Max)"
   ]
  },
  {
   "cell_type": "code",
   "execution_count": 65,
   "metadata": {},
   "outputs": [],
   "source": [
    "import matplotlib.pyplot as plt"
   ]
  },
  {
   "cell_type": "code",
   "execution_count": 118,
   "metadata": {},
   "outputs": [
    {
     "data": {
      "image/png": "[encoded data removed]",
      "text/plain": [
       "<Figure size 720x144 with 4 Axes>"
      ]
     },
     "metadata": {
      "needs_background": "light"
     },
     "output_type": "display_data"
    }
   ],
   "source": [
    "a = [10 ,20, 30 ,40]\n",
    "b = [10 ,20, 30 ,40]\n",
    "\n",
    "plt.figure(figsize=(10,2))\n",
    "plt.subplot(141)\n",
    "plt.plot(a, b, 'ro-',label = 'a')\n",
    "plt.title('1th')\n",
    "plt.legend(loc = 'center')\n",
    "\n",
    "plt.subplot(142)\n",
    "plt.plot(a, b, 'ks:', label = 'b')\n",
    "plt.title('2th')\n",
    "plt.grid()\n",
    "plt.legend(loc = 'upper right')\n",
    "\n",
    "plt.subplot(143)\n",
    "plt.plot(a, b, 'b^', label = 'c')\n",
    "plt.title('3th')\n",
    "plt.legend(loc = 'lower left')\n",
    "\n",
    "plt.subplot(144)\n",
    "plt.plot(a, b, 'm*', label = 'd')\n",
    "plt.title('4th')\n",
    "plt.legend(loc = 'lower center')\n",
    "\n",
    "plt.show()"
   ]
  },
  {
   "cell_type": "code",
   "execution_count": 119,
   "metadata": {},
   "outputs": [],
   "source": [
    "import numpy as np"
   ]
  },
  {
   "cell_type": "code",
   "execution_count": 144,
   "metadata": {},
   "outputs": [
    {
     "name": "stdout",
     "output_type": "stream",
     "text": [
      "[[9 9 7]\n",
      " [3 9 8]\n",
      " [3 2 6]]\n",
      "[[5 5 6]\n",
      " [8 4 7]\n",
      " [5 4 8]]\n",
      "[[14 14 13]\n",
      " [11 13 15]\n",
      " [ 8  6 14]]\n",
      "[[ 4  4  1]\n",
      " [-5  5  1]\n",
      " [-2 -2 -2]]\n",
      "[[1.8        1.8        1.16666667]\n",
      " [0.375      2.25       1.14285714]\n",
      " [0.6        0.5        0.75      ]]\n",
      "[[45 45 42]\n",
      " [24 36 56]\n",
      " [15  8 48]]\n"
     ]
    }
   ],
   "source": [
    "np.random.seed(2)\n",
    "a = np.random.randint(1,10,(3,3))\n",
    "b = np.random.randint(1,10,(3,3))\n",
    "print(a)\n",
    "print(b)\n",
    "print(a + b)\n",
    "print(a - b)\n",
    "print(a / b)\n",
    "print(a * b)"
   ]
  },
  {
   "cell_type": "code",
   "execution_count": 163,
   "metadata": {},
   "outputs": [
    {
     "name": "stdout",
     "output_type": "stream",
     "text": [
      "[[9]\n",
      " [6]\n",
      " [5]]\n",
      "[[8 5 3]]\n",
      "[[17 14 12]\n",
      " [14 11  9]\n",
      " [13 10  8]]\n"
     ]
    }
   ],
   "source": [
    "a = 0\n",
    "b = 0\n",
    "a = np.random.randint(2, 10, (3,1))\n",
    "print(a)\n",
    "b = np.random.randint(2, 10, (1,3))\n",
    "print(b)\n",
    "c = b+a\n",
    "print(c)\n",
    "# 두 배열 간의 연산에서 최소한 하나의 배열의 차원이 1\n",
    "# 차원에 대한 축의 길이가 동일\n",
    "#브로드 캐스팅이 가능한 이유는 차원에 대한 축의 길이가 동일하고 하나의 배열의 차원이 1이라면 축과 축의 연산으로 차원이 확장이 될수 있다 가로와 세로의 길이를 곱하면 사각형의 넓이가 나오듯이 벼열 사이즈의 확장이 가능하다"
   ]
  },
  {
   "cell_type": "code",
   "execution_count": null,
   "metadata": {},
   "outputs": [],
   "source": []
  },
  {
   "cell_type": "code",
   "execution_count": null,
   "metadata": {},
   "outputs": [],
   "source": []
  }
 ],
 "metadata": {
  "kernelspec": {
   "display_name": "Python 3",
   "language": "python",
   "name": "python3"
  },
  "language_info": {
   "codemirror_mode": {
    "name": "ipython",
    "version": 3
   },
   "file_extension": ".py",
   "mimetype": "text/x-python",
   "name": "python",
   "nbconvert_exporter": "python",
   "pygments_lexer": "ipython3",
   "version": "3.8.5"
  }
 },
 "nbformat": 4,
 "nbformat_minor": 4
}
